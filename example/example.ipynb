{
 "cells": [
  {
   "cell_type": "code",
   "execution_count": null,
   "metadata": {},
   "outputs": [],
   "source": [
    "import numpy as np, pandas as pd\n",
    "from sklearn import datasets\n",
    "from sklearn.model_selection import train_test_split, StratifiedKFold\n",
    "from sklearn.linear_model import LogisticRegression\n",
    "from bokeh.io import output_notebook\n",
    "output_notebook()\n",
    "\n",
    "from hyperopt import hp, tpe, rand\n",
    "\n",
    "from cvopt import hyperoptCV"
   ]
  },
  {
   "cell_type": "markdown",
   "metadata": {},
   "source": [
    "# Parameter search"
   ]
  },
  {
   "cell_type": "code",
   "execution_count": null,
   "metadata": {},
   "outputs": [],
   "source": [
    "# load data\n",
    "dataset = datasets.load_breast_cancer()\n",
    "Xtrain, Xtest, ytrain, ytest = train_test_split(dataset.data, dataset.target, test_size=0.3, random_state=0)\n",
    "Xtest, Xvalid, ytest, yvalid = train_test_split(Xtest, ytest, test_size=0.5, random_state=0)\n",
    "\n",
    "print(Xtrain.shape, Xtest.shape, Xvalid.shape)\n",
    "print(ytrain.shape, ytest.shape, yvalid.shape)"
   ]
  },
  {
   "cell_type": "code",
   "execution_count": null,
   "metadata": {
    "scrolled": false
   },
   "outputs": [],
   "source": [
    "estimator = LogisticRegression()\n",
    "param_distributions = {\n",
    "    'random_state':0,\n",
    "    'n_jobs':1,\n",
    "    'penalty': hp.choice(\"penalty\", ['l1', 'l2']),\n",
    "    'C': hp.choice(\"C\", [1e-3, 1e-2, 1e-1, 1e-0, 1e1, 1e2, 1e3]),\n",
    "    'tol' : hp.choice(\"tol\", [1e-4, 1e-3, 1e-2]),\n",
    "    'class_weight' : hp.choice(\"class_weight\", [None, \"balanced\"]),\n",
    "    }\n",
    "\n",
    "hpcv = hyperoptCV(estimator, param_distributions, \n",
    "                  scoring=\"roc_auc\",                                             # Objective of search\n",
    "                  cv=StratifiedKFold(n_splits=3, shuffle=True, random_state=0), # Cross validation setting\n",
    "                  max_evals=32,                                                  # Number of search\n",
    "                  n_jobs=3,                                                      # Number of jobs to run in parallel.\n",
    "                  random_state=0,                                                # seed in hyperopt\n",
    "                  verbose=2,                                                     # 0: don't display status, 1:display status by stdout, 2:display status by graph \n",
    "                  logdir=None,                                                   # If this path is specified, save the log.\n",
    "                  model_id=None,                                                 # used estimator's dir and file name in save.\n",
    "                  save_estimator=False\n",
    "                  )\n",
    "\n",
    "hpcv.fit(Xtrain, ytrain, validation_data=(Xvalid, yvalid))\n",
    "ytest_pred = hpcv.predict(Xtest)"
   ]
  },
  {
   "cell_type": "code",
   "execution_count": null,
   "metadata": {},
   "outputs": [],
   "source": [
    "pd.DataFrame(hpcv.cv_results_).head()"
   ]
  },
  {
   "cell_type": "markdown",
   "metadata": {
    "collapsed": true
   },
   "source": [
    "# Feature selection(& Parameter search)"
   ]
  },
  {
   "cell_type": "code",
   "execution_count": null,
   "metadata": {},
   "outputs": [],
   "source": [
    "hpcv = hyperoptCV(estimator, param_distributions, \n",
    "                  scoring=\"roc_auc\",\n",
    "                  cv=StratifiedKFold(n_splits=3, shuffle=True, random_state=0), \n",
    "                  max_evals=32,\n",
    "                  n_jobs=3,\n",
    "                  random_state=0,\n",
    "                  verbose=2, \n",
    "                  logdir=None, \n",
    "                  model_id=None,\n",
    "                  save_estimator=False\n",
    "                  )\n",
    "\n",
    "# Group labels for the features.\n",
    "# Searching select or not for each group.\n",
    "feature_groups = np.random.randint(0, 5, Xtrain.shape[1]) \n",
    "\n",
    "# if value is \"-100\", this feature always used.\n",
    "feature_groups[0] = -100 \n",
    "\n",
    "hpcv.fit(Xtrain, ytrain, validation_data=(Xvalid, yvalid), feature_groups=feature_groups)\n",
    "\n",
    "# When predict,the selection result is reflected.\n",
    "# (Not selected featires are excluded internally)\n",
    "ytest_pred = hpcv.predict(Xtest)"
   ]
  },
  {
   "cell_type": "markdown",
   "metadata": {},
   "source": [
    "# Cross validation class list\n",
    "* hyperoptCV: based on hyperopt"
   ]
  },
  {
   "cell_type": "code",
   "execution_count": null,
   "metadata": {},
   "outputs": [],
   "source": [
    "estimator"
   ]
  },
  {
   "cell_type": "code",
   "execution_count": null,
   "metadata": {},
   "outputs": [],
   "source": [
    "estimator = LogisticRegression()\n",
    "param_distributions = {\n",
    "    'random_state':0,\n",
    "    'n_jobs':1,\n",
    "    'penalty': hp.choice(\"penalty\", ['l1', 'l2']),\n",
    "    'C': hp.choice(\"C\", [1e-3, 1e-2, 1e-1, 1e-0, 1e1, 1e2, 1e3]),\n",
    "    'tol' : hp.choice(\"tol\", [1e-4, 1e-3, 1e-2]),\n",
    "    'class_weight' : hp.choice(\"class_weight\", [None, \"balanced\"]),\n",
    "    }\n",
    "hpcv = hyperoptCV(estimator, param_distributions, )\n",
    "hpcv.fit(Xtrain, ytrain)"
   ]
  },
  {
   "cell_type": "code",
   "execution_count": null,
   "metadata": {
    "scrolled": false
   },
   "outputs": [],
   "source": [
    "estimator = LogisticRegression()\n",
    "param_distributions = {\n",
    "    'random_state':0,\n",
    "    'n_jobs':1,\n",
    "    'penalty': hp.choice(\"penalty\", ['l1', 'l2']),\n",
    "    'C': hp.choice(\"C\", [1e-3, 1e-2, 1e-1, 1e-0, 1e1, 1e2, 1e3]),\n",
    "    'tol' : hp.choice(\"tol\", [1e-4, 1e-3, 1e-2]),\n",
    "    'class_weight' : hp.choice(\"class_weight\", [None, \"balanced\"]),\n",
    "    }\n",
    "\n",
    "hpcv = hyperoptCV(estimator, param_distributions, \n",
    "                  scoring=\"roc_auc\",                                             # Objective of search\n",
    "                  cv=StratifiedKFold(n_splits=3, shuffle=True, random_state=0), # Cross validation setting\n",
    "                  max_evals=32,                                                  # Number of search\n",
    "                  n_jobs=3,                                                      # Number of jobs to run in parallel.\n",
    "                  random_state=0,                                                # seed in hyperopt\n",
    "                  verbose=2,                                                     # 0: don't display status, 1:display status by stdout, 2:display status by graph \n",
    "                  logdir=None,                                                   # If this path is specified, save the log.\n",
    "                  model_id=None,                                                 # used estimator's dir and file name in save.\n",
    "                  save_estimator=False\n",
    "                  )\n",
    "\n",
    "hpcv.fit(Xtrain, ytrain)\n",
    "#ytest_pred = hpcv.predict(Xtest)"
   ]
  },
  {
   "cell_type": "code",
   "execution_count": null,
   "metadata": {},
   "outputs": [],
   "source": []
  }
 ],
 "metadata": {
  "kernelspec": {
   "display_name": "Python 3",
   "language": "python",
   "name": "python3"
  },
  "language_info": {
   "codemirror_mode": {
    "name": "ipython",
    "version": 3
   },
   "file_extension": ".py",
   "mimetype": "text/x-python",
   "name": "python",
   "nbconvert_exporter": "python",
   "pygments_lexer": "ipython3",
   "version": "3.6.3"
  }
 },
 "nbformat": 4,
 "nbformat_minor": 2
}
